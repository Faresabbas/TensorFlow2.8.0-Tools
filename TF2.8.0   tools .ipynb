{
 "cells": [
  {
   "cell_type": "code",
   "execution_count": 1,
   "id": "69459f17",
   "metadata": {},
   "outputs": [],
   "source": [
    "import tensorflow.compat.v1 as tf "
   ]
  },
  {
   "cell_type": "code",
   "execution_count": 4,
   "id": "b8928aa5",
   "metadata": {},
   "outputs": [
    {
     "name": "stdout",
     "output_type": "stream",
     "text": [
      "20\n"
     ]
    }
   ],
   "source": [
    "#the session graph must be define before the oprations \n",
    "with tf.Session() as sess : \n",
    "    c = tf.constant(20 ,tf.int32)\n",
    "    print(sess.run(c))\n",
    "    "
   ]
  },
  {
   "cell_type": "code",
   "execution_count": 11,
   "id": "5e0e501c",
   "metadata": {},
   "outputs": [
    {
     "name": "stdout",
     "output_type": "stream",
     "text": [
      "50\n"
     ]
    }
   ],
   "source": [
    "with tf.Session() as sess : \n",
    "    c = tf.constant(20 ,tf.int32)\n",
    "    v = tf.constant(30)\n",
    "    x = c + v \n",
    "    print(sess.run(x))\n",
    "    "
   ]
  },
  {
   "cell_type": "code",
   "execution_count": 15,
   "id": "55380ab4",
   "metadata": {},
   "outputs": [
    {
     "name": "stdout",
     "output_type": "stream",
     "text": [
      "50\n",
      "30\n"
     ]
    }
   ],
   "source": [
    "with tf.Session() as sess :\n",
    "    \n",
    "    c = tf.constant(20 ,tf.int32)\n",
    "    v = tf.constant(30)\n",
    "    x = c + v \n",
    "    s = tf.Variable(30)\n",
    "    print(sess.run(x))\n",
    "    sess.run(tf.global_variables_initializer()) #important\n",
    "    print(sess.run(s))"
   ]
  },
  {
   "cell_type": "code",
   "execution_count": 19,
   "id": "7d4bc189",
   "metadata": {},
   "outputs": [
    {
     "name": "stdout",
     "output_type": "stream",
     "text": [
      "50\n",
      "30\n",
      "35\n",
      "90\n"
     ]
    }
   ],
   "source": [
    "#change var value \n",
    "with tf.Session() as sess :\n",
    "    \n",
    "    c = tf.constant(20 ,tf.int32)\n",
    "    v = tf.constant(30)\n",
    "    x = c + v \n",
    "    s = tf.Variable(30)\n",
    "    print(sess.run(x))\n",
    "    sess.run(tf.global_variables_initializer()) #important\n",
    "    print(sess.run(s))\n",
    "    s = tf.Variable(35)\n",
    "    sess.run(tf.global_variables_initializer())\n",
    "    print(sess.run(s))\n",
    "    z = tf.assign(s , 90)                      #to change var value \n",
    "    print(sess.run(z))"
   ]
  },
  {
   "cell_type": "code",
   "execution_count": 20,
   "id": "795bc28d",
   "metadata": {},
   "outputs": [
    {
     "name": "stdout",
     "output_type": "stream",
     "text": [
      "12\n"
     ]
    }
   ],
   "source": [
    "with tf.Session() as sess :\n",
    "    a = tf.placeholder(tf.int32)\n",
    "    b = a*2 + 8\n",
    "    print(sess.run(b ,feed_dict = {a:2}))"
   ]
  },
  {
   "cell_type": "code",
   "execution_count": 21,
   "id": "fd064c16",
   "metadata": {},
   "outputs": [
    {
     "name": "stdout",
     "output_type": "stream",
     "text": [
      "[12 14 16 18 20 22 24 24]\n"
     ]
    }
   ],
   "source": [
    "with tf.Session() as sess :\n",
    "    a = tf.placeholder(tf.int32)\n",
    "    b = a*2 + 8\n",
    "    print(sess.run(b ,feed_dict = {a:[2,3,4,5,6,7,8,8]}))"
   ]
  },
  {
   "cell_type": "code",
   "execution_count": 24,
   "id": "2d977c39",
   "metadata": {},
   "outputs": [
    {
     "name": "stdout",
     "output_type": "stream",
     "text": [
      "b'hi python'\n"
     ]
    }
   ],
   "source": [
    "with tf.Session() as sess :\n",
    "    a = tf.constant('hi ')\n",
    "    b = tf.constant('python')\n",
    "    x = tf.add(a , b)\n",
    "    print(sess.run(x))\n",
    "    "
   ]
  },
  {
   "cell_type": "code",
   "execution_count": 25,
   "id": "b5a596d0",
   "metadata": {},
   "outputs": [
    {
     "name": "stdout",
     "output_type": "stream",
     "text": [
      "100\n"
     ]
    }
   ],
   "source": [
    "with tf.Session() as sess :\n",
    "    a = tf.constant(70)\n",
    "    b = tf.constant(30)\n",
    "    x = tf.add(a , b)\n",
    "    print(sess.run(x))"
   ]
  },
  {
   "cell_type": "code",
   "execution_count": 27,
   "id": "dfcea657",
   "metadata": {},
   "outputs": [
    {
     "name": "stdout",
     "output_type": "stream",
     "text": [
      "21\n"
     ]
    }
   ],
   "source": [
    "with tf.Session() as sess :\n",
    "    a = tf.constant(7)\n",
    "    b = tf.constant(3)\n",
    "    x = tf.multiply(a , b)\n",
    "    print(sess.run(x))"
   ]
  },
  {
   "cell_type": "code",
   "execution_count": 30,
   "id": "ec6b4e75",
   "metadata": {},
   "outputs": [
    {
     "name": "stdout",
     "output_type": "stream",
     "text": [
      "40\n"
     ]
    }
   ],
   "source": [
    "with tf.Session() as sess :\n",
    "    a = tf.constant(70)\n",
    "    b = tf.constant(30)\n",
    "    x = tf.subtract(a , b)\n",
    "    print(sess.run(x))"
   ]
  },
  {
   "cell_type": "code",
   "execution_count": 31,
   "id": "eb44dafc",
   "metadata": {},
   "outputs": [
    {
     "name": "stdout",
     "output_type": "stream",
     "text": [
      "2.3333333333333335\n"
     ]
    }
   ],
   "source": [
    "with tf.Session() as sess :\n",
    "    a = tf.constant(70)\n",
    "    b = tf.constant(30)\n",
    "    x = tf.divide(a , b)\n",
    "    print(sess.run(x))"
   ]
  },
  {
   "cell_type": "code",
   "execution_count": 32,
   "id": "3abfae31",
   "metadata": {},
   "outputs": [
    {
     "name": "stdout",
     "output_type": "stream",
     "text": [
      "1073741824\n"
     ]
    }
   ],
   "source": [
    "with tf.Session() as sess :\n",
    "    a = tf.constant(70)\n",
    "    b = tf.constant(30)\n",
    "    x = tf.pow(a , b)\n",
    "    print(sess.run(x))"
   ]
  },
  {
   "cell_type": "code",
   "execution_count": 33,
   "id": "ed7cb627",
   "metadata": {},
   "outputs": [
    {
     "name": "stdout",
     "output_type": "stream",
     "text": [
      "[35 36 37 38]\n"
     ]
    }
   ],
   "source": [
    "with tf.Session() as sess :\n",
    "    s1 = tf.constant([5,6,7,8])\n",
    "    s2 = tf.constant(30)\n",
    "    s3 = tf.add(s1,s2)\n",
    "    print(sess.run(s3))"
   ]
  },
  {
   "cell_type": "code",
   "execution_count": 34,
   "id": "839f5712",
   "metadata": {},
   "outputs": [
    {
     "name": "stdout",
     "output_type": "stream",
     "text": [
      "[10 12 14 16]\n"
     ]
    }
   ],
   "source": [
    "with tf.Session() as sess :\n",
    "    s1 = tf.constant([5,6,7,8])\n",
    "    s2 = tf.constant([5,6,7,8])\n",
    "    s3 = tf.add(s1,s2)\n",
    "    print(sess.run(s3))"
   ]
  },
  {
   "cell_type": "code",
   "execution_count": 35,
   "id": "ed46745c",
   "metadata": {},
   "outputs": [
    {
     "name": "stdout",
     "output_type": "stream",
     "text": [
      "[[16.]]\n"
     ]
    }
   ],
   "source": [
    "with tf.Session() as sess :\n",
    "    matrix1 = tf.constant([[5., 3.]])\n",
    "    matrix2 = tf.constant([[2.],\n",
    "                       [2.]])\n",
    "    product = tf.matmul(matrix1, matrix2)\n",
    "    print(sess.run(product))\n",
    "    \n"
   ]
  },
  {
   "cell_type": "code",
   "execution_count": 36,
   "id": "d2c57b81",
   "metadata": {},
   "outputs": [
    {
     "name": "stdout",
     "output_type": "stream",
     "text": [
      "[[5 1 7 1]\n",
      " [6 2 9 2]\n",
      " [9 8 5 3]\n",
      " [8 9 6 9]]\n"
     ]
    }
   ],
   "source": [
    "with tf.Session() as sess :\n",
    "    matrix1 = tf.constant([[5,6,9,8],\n",
    "                          [1,2,8,9],\n",
    "                          [7,9,5,6],\n",
    "                          [1,2,3,9]])\n",
    "\n",
    "\n",
    "    matrix2 = tf.matrix_transpose(matrix1)\n",
    "    print(sess.run(matrix2))\n",
    "    \n"
   ]
  },
  {
   "cell_type": "code",
   "execution_count": 37,
   "id": "ba8df0b6",
   "metadata": {},
   "outputs": [],
   "source": [
    "graph = tf.get_default_graph()"
   ]
  },
  {
   "cell_type": "code",
   "execution_count": 39,
   "id": "7f83280c",
   "metadata": {},
   "outputs": [
    {
     "data": {
      "text/plain": [
       "[<tf.Operation 'Const' type=Const>,\n",
       " <tf.Operation 'Const_1' type=Const>,\n",
       " <tf.Operation 'Const_2' type=Const>,\n",
       " <tf.Operation 'Const_3' type=Const>,\n",
       " <tf.Operation 'add' type=AddV2>,\n",
       " <tf.Operation 'Const_4' type=Const>,\n",
       " <tf.Operation 'Const_5' type=Const>,\n",
       " <tf.Operation 'add_1' type=AddV2>,\n",
       " <tf.Operation 'Const_6' type=Const>,\n",
       " <tf.Operation 'Const_7' type=Const>,\n",
       " <tf.Operation 'add_2' type=AddV2>,\n",
       " <tf.Operation 'Const_8' type=Const>,\n",
       " <tf.Operation 'Const_9' type=Const>,\n",
       " <tf.Operation 'add_3' type=AddV2>,\n",
       " <tf.Operation 'Variable/Initializer/initial_value' type=Const>,\n",
       " <tf.Operation 'Variable' type=VarHandleOp>,\n",
       " <tf.Operation 'Variable/IsInitialized/VarIsInitializedOp' type=VarIsInitializedOp>,\n",
       " <tf.Operation 'Variable/Assign' type=AssignVariableOp>,\n",
       " <tf.Operation 'Variable/Read/ReadVariableOp' type=ReadVariableOp>,\n",
       " <tf.Operation 'init' type=NoOp>,\n",
       " <tf.Operation 'Const_10' type=Const>,\n",
       " <tf.Operation 'Const_11' type=Const>,\n",
       " <tf.Operation 'add_4' type=AddV2>,\n",
       " <tf.Operation 'Variable_1/Initializer/initial_value' type=Const>,\n",
       " <tf.Operation 'Variable_1' type=VarHandleOp>,\n",
       " <tf.Operation 'Variable_1/IsInitialized/VarIsInitializedOp' type=VarIsInitializedOp>,\n",
       " <tf.Operation 'Variable_1/Assign' type=AssignVariableOp>,\n",
       " <tf.Operation 'Variable_1/Read/ReadVariableOp' type=ReadVariableOp>,\n",
       " <tf.Operation 'Const_12' type=Const>,\n",
       " <tf.Operation 'Const_13' type=Const>,\n",
       " <tf.Operation 'add_5' type=AddV2>,\n",
       " <tf.Operation 'Variable_2/Initializer/initial_value' type=Const>,\n",
       " <tf.Operation 'Variable_2' type=VarHandleOp>,\n",
       " <tf.Operation 'Variable_2/IsInitialized/VarIsInitializedOp' type=VarIsInitializedOp>,\n",
       " <tf.Operation 'Variable_2/Assign' type=AssignVariableOp>,\n",
       " <tf.Operation 'Variable_2/Read/ReadVariableOp' type=ReadVariableOp>,\n",
       " <tf.Operation 'init_1' type=NoOp>,\n",
       " <tf.Operation 'Const_14' type=Const>,\n",
       " <tf.Operation 'Const_15' type=Const>,\n",
       " <tf.Operation 'add_6' type=AddV2>,\n",
       " <tf.Operation 'Variable_3/Initializer/initial_value' type=Const>,\n",
       " <tf.Operation 'Variable_3' type=VarHandleOp>,\n",
       " <tf.Operation 'Variable_3/IsInitialized/VarIsInitializedOp' type=VarIsInitializedOp>,\n",
       " <tf.Operation 'Variable_3/Assign' type=AssignVariableOp>,\n",
       " <tf.Operation 'Variable_3/Read/ReadVariableOp' type=ReadVariableOp>,\n",
       " <tf.Operation 'Variable_4/Initializer/initial_value' type=Const>,\n",
       " <tf.Operation 'Variable_4' type=VarHandleOp>,\n",
       " <tf.Operation 'Variable_4/IsInitialized/VarIsInitializedOp' type=VarIsInitializedOp>,\n",
       " <tf.Operation 'Variable_4/Assign' type=AssignVariableOp>,\n",
       " <tf.Operation 'Variable_4/Read/ReadVariableOp' type=ReadVariableOp>,\n",
       " <tf.Operation 'init_2' type=NoOp>,\n",
       " <tf.Operation 'Const_16' type=Const>,\n",
       " <tf.Operation 'Const_17' type=Const>,\n",
       " <tf.Operation 'add_7' type=AddV2>,\n",
       " <tf.Operation 'Variable_5/Initializer/initial_value' type=Const>,\n",
       " <tf.Operation 'Variable_5' type=VarHandleOp>,\n",
       " <tf.Operation 'Variable_5/IsInitialized/VarIsInitializedOp' type=VarIsInitializedOp>,\n",
       " <tf.Operation 'Variable_5/Assign' type=AssignVariableOp>,\n",
       " <tf.Operation 'Variable_5/Read/ReadVariableOp' type=ReadVariableOp>,\n",
       " <tf.Operation 'init_3' type=NoOp>,\n",
       " <tf.Operation 'Variable_6/Initializer/initial_value' type=Const>,\n",
       " <tf.Operation 'Variable_6' type=VarHandleOp>,\n",
       " <tf.Operation 'Variable_6/IsInitialized/VarIsInitializedOp' type=VarIsInitializedOp>,\n",
       " <tf.Operation 'Variable_6/Assign' type=AssignVariableOp>,\n",
       " <tf.Operation 'Variable_6/Read/ReadVariableOp' type=ReadVariableOp>,\n",
       " <tf.Operation 'Const_18' type=Const>,\n",
       " <tf.Operation 'Const_19' type=Const>,\n",
       " <tf.Operation 'add_8' type=AddV2>,\n",
       " <tf.Operation 'Variable_7/Initializer/initial_value' type=Const>,\n",
       " <tf.Operation 'Variable_7' type=VarHandleOp>,\n",
       " <tf.Operation 'Variable_7/IsInitialized/VarIsInitializedOp' type=VarIsInitializedOp>,\n",
       " <tf.Operation 'Variable_7/Assign' type=AssignVariableOp>,\n",
       " <tf.Operation 'Variable_7/Read/ReadVariableOp' type=ReadVariableOp>,\n",
       " <tf.Operation 'init_4' type=NoOp>,\n",
       " <tf.Operation 'Variable_8/Initializer/initial_value' type=Const>,\n",
       " <tf.Operation 'Variable_8' type=VarHandleOp>,\n",
       " <tf.Operation 'Variable_8/IsInitialized/VarIsInitializedOp' type=VarIsInitializedOp>,\n",
       " <tf.Operation 'Variable_8/Assign' type=AssignVariableOp>,\n",
       " <tf.Operation 'Variable_8/Read/ReadVariableOp' type=ReadVariableOp>,\n",
       " <tf.Operation 'init_5' type=NoOp>,\n",
       " <tf.Operation 'Const_20' type=Const>,\n",
       " <tf.Operation 'Const_21' type=Const>,\n",
       " <tf.Operation 'add_9' type=AddV2>,\n",
       " <tf.Operation 'Variable_9/Initializer/initial_value' type=Const>,\n",
       " <tf.Operation 'Variable_9' type=VarHandleOp>,\n",
       " <tf.Operation 'Variable_9/IsInitialized/VarIsInitializedOp' type=VarIsInitializedOp>,\n",
       " <tf.Operation 'Variable_9/Assign' type=AssignVariableOp>,\n",
       " <tf.Operation 'Variable_9/Read/ReadVariableOp' type=ReadVariableOp>,\n",
       " <tf.Operation 'init_6' type=NoOp>,\n",
       " <tf.Operation 'Variable_10/Initializer/initial_value' type=Const>,\n",
       " <tf.Operation 'Variable_10' type=VarHandleOp>,\n",
       " <tf.Operation 'Variable_10/IsInitialized/VarIsInitializedOp' type=VarIsInitializedOp>,\n",
       " <tf.Operation 'Variable_10/Assign' type=AssignVariableOp>,\n",
       " <tf.Operation 'Variable_10/Read/ReadVariableOp' type=ReadVariableOp>,\n",
       " <tf.Operation 'init_7' type=NoOp>,\n",
       " <tf.Operation 'Const_22' type=Const>,\n",
       " <tf.Operation 'AssignVariableOp' type=AssignVariableOp>,\n",
       " <tf.Operation 'ReadVariableOp' type=ReadVariableOp>,\n",
       " <tf.Operation 'Placeholder' type=Placeholder>,\n",
       " <tf.Operation 'mul/y' type=Const>,\n",
       " <tf.Operation 'mul' type=Mul>,\n",
       " <tf.Operation 'add_10/y' type=Const>,\n",
       " <tf.Operation 'add_10' type=AddV2>,\n",
       " <tf.Operation 'Placeholder_1' type=Placeholder>,\n",
       " <tf.Operation 'mul_1/y' type=Const>,\n",
       " <tf.Operation 'mul_1' type=Mul>,\n",
       " <tf.Operation 'add_11/y' type=Const>,\n",
       " <tf.Operation 'add_11' type=AddV2>,\n",
       " <tf.Operation 'Const_23' type=Const>,\n",
       " <tf.Operation 'Const_24' type=Const>,\n",
       " <tf.Operation 'Add_12' type=Add>,\n",
       " <tf.Operation 'Const_25' type=Const>,\n",
       " <tf.Operation 'Const_26' type=Const>,\n",
       " <tf.Operation 'Add_13' type=Add>,\n",
       " <tf.Operation 'Const_27' type=Const>,\n",
       " <tf.Operation 'Const_28' type=Const>,\n",
       " <tf.Operation 'Add_14' type=Add>,\n",
       " <tf.Operation 'Const_29' type=Const>,\n",
       " <tf.Operation 'Const_30' type=Const>,\n",
       " <tf.Operation 'Add_15' type=AddV2>,\n",
       " <tf.Operation 'Const_31' type=Const>,\n",
       " <tf.Operation 'Const_32' type=Const>,\n",
       " <tf.Operation 'Const_33' type=Const>,\n",
       " <tf.Operation 'Const_34' type=Const>,\n",
       " <tf.Operation 'Mul_2' type=Mul>,\n",
       " <tf.Operation 'Const_35' type=Const>,\n",
       " <tf.Operation 'Const_36' type=Const>,\n",
       " <tf.Operation 'Const_37' type=Const>,\n",
       " <tf.Operation 'Const_38' type=Const>,\n",
       " <tf.Operation 'Const_39' type=Const>,\n",
       " <tf.Operation 'Const_40' type=Const>,\n",
       " <tf.Operation 'Sub' type=Sub>,\n",
       " <tf.Operation 'Const_41' type=Const>,\n",
       " <tf.Operation 'Const_42' type=Const>,\n",
       " <tf.Operation 'truediv/Cast' type=Cast>,\n",
       " <tf.Operation 'truediv/Cast_1' type=Cast>,\n",
       " <tf.Operation 'truediv' type=RealDiv>,\n",
       " <tf.Operation 'Const_43' type=Const>,\n",
       " <tf.Operation 'Const_44' type=Const>,\n",
       " <tf.Operation 'Pow' type=Pow>,\n",
       " <tf.Operation 'Const_45' type=Const>,\n",
       " <tf.Operation 'Const_46' type=Const>,\n",
       " <tf.Operation 'Add_16' type=AddV2>,\n",
       " <tf.Operation 'Const_47' type=Const>,\n",
       " <tf.Operation 'Const_48' type=Const>,\n",
       " <tf.Operation 'Add_17' type=AddV2>,\n",
       " <tf.Operation 'Const_49' type=Const>,\n",
       " <tf.Operation 'Const_50' type=Const>,\n",
       " <tf.Operation 'MatMul' type=MatMul>,\n",
       " <tf.Operation 'Const_51' type=Const>,\n",
       " <tf.Operation 'matrix_transpose/transpose/perm' type=Const>,\n",
       " <tf.Operation 'matrix_transpose/transpose' type=Transpose>]"
      ]
     },
     "execution_count": 39,
     "metadata": {},
     "output_type": "execute_result"
    }
   ],
   "source": [
    "graph.get_operations()"
   ]
  },
  {
   "cell_type": "code",
   "execution_count": 40,
   "id": "601ceabd",
   "metadata": {},
   "outputs": [
    {
     "name": "stdout",
     "output_type": "stream",
     "text": [
      "Const\n",
      "Const_1\n",
      "Const_2\n",
      "Const_3\n",
      "add\n",
      "Const_4\n",
      "Const_5\n",
      "add_1\n",
      "Const_6\n",
      "Const_7\n",
      "add_2\n",
      "Const_8\n",
      "Const_9\n",
      "add_3\n",
      "Variable/Initializer/initial_value\n",
      "Variable\n",
      "Variable/IsInitialized/VarIsInitializedOp\n",
      "Variable/Assign\n",
      "Variable/Read/ReadVariableOp\n",
      "init\n",
      "Const_10\n",
      "Const_11\n",
      "add_4\n",
      "Variable_1/Initializer/initial_value\n",
      "Variable_1\n",
      "Variable_1/IsInitialized/VarIsInitializedOp\n",
      "Variable_1/Assign\n",
      "Variable_1/Read/ReadVariableOp\n",
      "Const_12\n",
      "Const_13\n",
      "add_5\n",
      "Variable_2/Initializer/initial_value\n",
      "Variable_2\n",
      "Variable_2/IsInitialized/VarIsInitializedOp\n",
      "Variable_2/Assign\n",
      "Variable_2/Read/ReadVariableOp\n",
      "init_1\n",
      "Const_14\n",
      "Const_15\n",
      "add_6\n",
      "Variable_3/Initializer/initial_value\n",
      "Variable_3\n",
      "Variable_3/IsInitialized/VarIsInitializedOp\n",
      "Variable_3/Assign\n",
      "Variable_3/Read/ReadVariableOp\n",
      "Variable_4/Initializer/initial_value\n",
      "Variable_4\n",
      "Variable_4/IsInitialized/VarIsInitializedOp\n",
      "Variable_4/Assign\n",
      "Variable_4/Read/ReadVariableOp\n",
      "init_2\n",
      "Const_16\n",
      "Const_17\n",
      "add_7\n",
      "Variable_5/Initializer/initial_value\n",
      "Variable_5\n",
      "Variable_5/IsInitialized/VarIsInitializedOp\n",
      "Variable_5/Assign\n",
      "Variable_5/Read/ReadVariableOp\n",
      "init_3\n",
      "Variable_6/Initializer/initial_value\n",
      "Variable_6\n",
      "Variable_6/IsInitialized/VarIsInitializedOp\n",
      "Variable_6/Assign\n",
      "Variable_6/Read/ReadVariableOp\n",
      "Const_18\n",
      "Const_19\n",
      "add_8\n",
      "Variable_7/Initializer/initial_value\n",
      "Variable_7\n",
      "Variable_7/IsInitialized/VarIsInitializedOp\n",
      "Variable_7/Assign\n",
      "Variable_7/Read/ReadVariableOp\n",
      "init_4\n",
      "Variable_8/Initializer/initial_value\n",
      "Variable_8\n",
      "Variable_8/IsInitialized/VarIsInitializedOp\n",
      "Variable_8/Assign\n",
      "Variable_8/Read/ReadVariableOp\n",
      "init_5\n",
      "Const_20\n",
      "Const_21\n",
      "add_9\n",
      "Variable_9/Initializer/initial_value\n",
      "Variable_9\n",
      "Variable_9/IsInitialized/VarIsInitializedOp\n",
      "Variable_9/Assign\n",
      "Variable_9/Read/ReadVariableOp\n",
      "init_6\n",
      "Variable_10/Initializer/initial_value\n",
      "Variable_10\n",
      "Variable_10/IsInitialized/VarIsInitializedOp\n",
      "Variable_10/Assign\n",
      "Variable_10/Read/ReadVariableOp\n",
      "init_7\n",
      "Const_22\n",
      "AssignVariableOp\n",
      "ReadVariableOp\n",
      "Placeholder\n",
      "mul/y\n",
      "mul\n",
      "add_10/y\n",
      "add_10\n",
      "Placeholder_1\n",
      "mul_1/y\n",
      "mul_1\n",
      "add_11/y\n",
      "add_11\n",
      "Const_23\n",
      "Const_24\n",
      "Add_12\n",
      "Const_25\n",
      "Const_26\n",
      "Add_13\n",
      "Const_27\n",
      "Const_28\n",
      "Add_14\n",
      "Const_29\n",
      "Const_30\n",
      "Add_15\n",
      "Const_31\n",
      "Const_32\n",
      "Const_33\n",
      "Const_34\n",
      "Mul_2\n",
      "Const_35\n",
      "Const_36\n",
      "Const_37\n",
      "Const_38\n",
      "Const_39\n",
      "Const_40\n",
      "Sub\n",
      "Const_41\n",
      "Const_42\n",
      "truediv/Cast\n",
      "truediv/Cast_1\n",
      "truediv\n",
      "Const_43\n",
      "Const_44\n",
      "Pow\n",
      "Const_45\n",
      "Const_46\n",
      "Add_16\n",
      "Const_47\n",
      "Const_48\n",
      "Add_17\n",
      "Const_49\n",
      "Const_50\n",
      "MatMul\n",
      "Const_51\n",
      "matrix_transpose/transpose/perm\n",
      "matrix_transpose/transpose\n"
     ]
    }
   ],
   "source": [
    "for operation in graph.get_operations() :\n",
    "    print(operation.name)\n"
   ]
  },
  {
   "cell_type": "code",
   "execution_count": 41,
   "id": "4fa7a9f0",
   "metadata": {},
   "outputs": [],
   "source": [
    "tf.enable_eager_execution()"
   ]
  },
  {
   "cell_type": "code",
   "execution_count": 47,
   "id": "0d28575b",
   "metadata": {},
   "outputs": [
    {
     "name": "stdout",
     "output_type": "stream",
     "text": [
      "tf.Tensor([10 12 14 16], shape=(4,), dtype=int32)\n"
     ]
    }
   ],
   "source": [
    "s1 = tf.constant([5,6,7,8])\n",
    "s2 = tf.constant([5,6,7,8])\n",
    "s3 = tf.add(s1,s2)\n",
    "print(s3)"
   ]
  },
  {
   "cell_type": "code",
   "execution_count": 50,
   "id": "15bc438c",
   "metadata": {},
   "outputs": [
    {
     "name": "stdout",
     "output_type": "stream",
     "text": [
      "Tensor:\n",
      " a = tf.Tensor(\n",
      "[[2. 1.]\n",
      " [1. 0.]], shape=(2, 2), dtype=float32)\n",
      "NumpyArray:\n",
      " b = [[3. 0.]\n",
      " [5. 1.]]\n"
     ]
    }
   ],
   "source": [
    "# Define constant tensors\n",
    "import numpy as np\n",
    "a = tf.constant([[2., 1.],\n",
    "                 [1., 0.]], dtype=tf.float32)\n",
    "print(\"Tensor:\\n a = %s\" % a)\n",
    "b = np.array([[3., 0.],\n",
    "              [5., 1.]], dtype=np.float32)\n",
    "print(\"NumpyArray:\\n b = %s\" % b)\n"
   ]
  },
  {
   "cell_type": "code",
   "execution_count": null,
   "id": "348a4e54",
   "metadata": {},
   "outputs": [],
   "source": []
  }
 ],
 "metadata": {
  "kernelspec": {
   "display_name": "Python 3 (ipykernel)",
   "language": "python",
   "name": "python3"
  },
  "language_info": {
   "codemirror_mode": {
    "name": "ipython",
    "version": 3
   },
   "file_extension": ".py",
   "mimetype": "text/x-python",
   "name": "python",
   "nbconvert_exporter": "python",
   "pygments_lexer": "ipython3",
   "version": "3.9.7"
  }
 },
 "nbformat": 4,
 "nbformat_minor": 5
}
